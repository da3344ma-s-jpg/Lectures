{
  "cells": [
    {
      "cell_type": "markdown",
      "metadata": {
        "id": "view-in-github",
        "colab_type": "text"
      },
      "source": [
        "<a href=\"https://colab.research.google.com/github/da3344ma-s-jpg/Lectures/blob/main/lectures/11-optimization.ipynb\" target=\"_parent\"><img src=\"https://colab.research.google.com/assets/colab-badge.svg\" alt=\"Open In Colab\"/></a>"
      ]
    },
    {
      "cell_type": "code",
      "execution_count": null,
      "metadata": {
        "id": "7TF3oIm2LhtZ"
      },
      "outputs": [],
      "source": [
        "import sys, os\n",
        "import matplotlib.pyplot as plt\n",
        "import time\n",
        "import matplotlib\n",
        "import numpy as np\n",
        "import pandas as pd\n",
        "from scipy.optimize import curve_fit, minimize\n",
        "%matplotlib inline"
      ]
    },
    {
      "cell_type": "markdown",
      "metadata": {
        "id": "d886cnDwLhtc"
      },
      "source": [
        "# Repetition Functions:\n",
        "\n",
        "Two ways to define functions:\n",
        "* the classical way using def\n",
        "* a more compact way is using a so-called lambda function that you use when you only want to define a function for one purpose (here optimizing)\n",
        "\n",
        "## Definition syntax"
      ]
    },
    {
      "cell_type": "code",
      "execution_count": 17,
      "metadata": {
        "colab": {
          "base_uri": "https://localhost:8080/"
        },
        "id": "qvAaT5sdLhte",
        "outputId": "53b089b0-b145-463f-c079-2ea1f30a1a27"
      },
      "outputs": [
        {
          "output_type": "stream",
          "name": "stdout",
          "text": [
            "6\n",
            "6\n",
            "6\n"
          ]
        }
      ],
      "source": [
        "def adding_one(s):\n",
        "    \"\"\"Function that returns s plus 1\"\"\"\n",
        "    return s + 1\n",
        "\n",
        "def adding_one_with_standard(s=5):\n",
        "    \"\"\"Function that returns s plus 1 and with a default value\"\"\"\n",
        "    return s + 1\n",
        "\n",
        "print(adding_one(5))\n",
        "print(adding_one_with_standard(5))\n",
        "print(adding_one_with_standard())"
      ]
    },
    {
      "cell_type": "markdown",
      "metadata": {
        "id": "BCQz8SzVLhte"
      },
      "source": [
        "As we have learned before functions are so called namespaces in which we can re-use names we used outside. (remember _import this_ ?) <br>\n",
        "this also means if you want to use something out of a function you have to return it.\n",
        "\n",
        "## Task:\n",
        "\n",
        "1. Write a function that takes `x`, `mu` and `sigma` and returns a gaussian bell curve (with normalisation). Make sure that you use numpy operations only, so that you can give it a vector and receive a vector.<br>\n",
        "${\\frac {1}{\\sqrt {2\\pi \\sigma ^{2}}}}\\operatorname {exp} \\left(-{\\frac {\\left(x-\\mu \\right)^{2}}{2\\sigma ^{2}}}\\right)$<br>\n",
        "(You should of course feel free to re-use your prior work)\n",
        "2. define `mu=0` , `sigma=1` as standard inputs\n",
        "3. create an x-vector (outside the function) from -5 to 5 in 0.01 steps and use the function to calculate the corresponding values of the gaussian\n",
        "4. use the cumsum function from numpy to create the cummulative sum of the gaussian from above and normalize it with your lambda function\n",
        "5. Put both y-vectors into a DataFrame with x as the index\n",
        "6. Plot the output."
      ]
    },
    {
      "cell_type": "code",
      "execution_count": 18,
      "metadata": {
        "colab": {
          "base_uri": "https://localhost:8080/",
          "height": 659
        },
        "id": "ooWOddzHLhte",
        "outputId": "d0967c12-01b1-49eb-df96-3d6a8c725345"
      },
      "outputs": [
        {
          "output_type": "display_data",
          "data": {
            "text/plain": [
              "       Gaussian  Cumulative Sum\n",
              "-5.00  0.000001    1.486720e-08\n",
              "-4.99  0.000002    3.049588e-08\n",
              "-4.98  0.000002    4.692340e-08\n",
              "-4.97  0.000002    6.418885e-08\n",
              "-4.96  0.000002    8.233318e-08"
            ],
            "text/html": [
              "\n",
              "  <div id=\"df-588c77a9-a6ee-49bd-9454-d7c9bad40f98\" class=\"colab-df-container\">\n",
              "    <div>\n",
              "<style scoped>\n",
              "    .dataframe tbody tr th:only-of-type {\n",
              "        vertical-align: middle;\n",
              "    }\n",
              "\n",
              "    .dataframe tbody tr th {\n",
              "        vertical-align: top;\n",
              "    }\n",
              "\n",
              "    .dataframe thead th {\n",
              "        text-align: right;\n",
              "    }\n",
              "</style>\n",
              "<table border=\"1\" class=\"dataframe\">\n",
              "  <thead>\n",
              "    <tr style=\"text-align: right;\">\n",
              "      <th></th>\n",
              "      <th>Gaussian</th>\n",
              "      <th>Cumulative Sum</th>\n",
              "    </tr>\n",
              "  </thead>\n",
              "  <tbody>\n",
              "    <tr>\n",
              "      <th>-5.00</th>\n",
              "      <td>0.000001</td>\n",
              "      <td>1.486720e-08</td>\n",
              "    </tr>\n",
              "    <tr>\n",
              "      <th>-4.99</th>\n",
              "      <td>0.000002</td>\n",
              "      <td>3.049588e-08</td>\n",
              "    </tr>\n",
              "    <tr>\n",
              "      <th>-4.98</th>\n",
              "      <td>0.000002</td>\n",
              "      <td>4.692340e-08</td>\n",
              "    </tr>\n",
              "    <tr>\n",
              "      <th>-4.97</th>\n",
              "      <td>0.000002</td>\n",
              "      <td>6.418885e-08</td>\n",
              "    </tr>\n",
              "    <tr>\n",
              "      <th>-4.96</th>\n",
              "      <td>0.000002</td>\n",
              "      <td>8.233318e-08</td>\n",
              "    </tr>\n",
              "  </tbody>\n",
              "</table>\n",
              "</div>\n",
              "    <div class=\"colab-df-buttons\">\n",
              "\n",
              "  <div class=\"colab-df-container\">\n",
              "    <button class=\"colab-df-convert\" onclick=\"convertToInteractive('df-588c77a9-a6ee-49bd-9454-d7c9bad40f98')\"\n",
              "            title=\"Convert this dataframe to an interactive table.\"\n",
              "            style=\"display:none;\">\n",
              "\n",
              "  <svg xmlns=\"http://www.w3.org/2000/svg\" height=\"24px\" viewBox=\"0 -960 960 960\">\n",
              "    <path d=\"M120-120v-720h720v720H120Zm60-500h600v-160H180v160Zm220 220h160v-160H400v160Zm0 220h160v-160H400v160ZM180-400h160v-160H180v160Zm440 0h160v-160H620v160ZM180-180h160v-160H180v160Zm440 0h160v-160H620v160Z\"/>\n",
              "  </svg>\n",
              "    </button>\n",
              "\n",
              "  <style>\n",
              "    .colab-df-container {\n",
              "      display:flex;\n",
              "      gap: 12px;\n",
              "    }\n",
              "\n",
              "    .colab-df-convert {\n",
              "      background-color: #E8F0FE;\n",
              "      border: none;\n",
              "      border-radius: 50%;\n",
              "      cursor: pointer;\n",
              "      display: none;\n",
              "      fill: #1967D2;\n",
              "      height: 32px;\n",
              "      padding: 0 0 0 0;\n",
              "      width: 32px;\n",
              "    }\n",
              "\n",
              "    .colab-df-convert:hover {\n",
              "      background-color: #E2EBFA;\n",
              "      box-shadow: 0px 1px 2px rgba(60, 64, 67, 0.3), 0px 1px 3px 1px rgba(60, 64, 67, 0.15);\n",
              "      fill: #174EA6;\n",
              "    }\n",
              "\n",
              "    .colab-df-buttons div {\n",
              "      margin-bottom: 4px;\n",
              "    }\n",
              "\n",
              "    [theme=dark] .colab-df-convert {\n",
              "      background-color: #3B4455;\n",
              "      fill: #D2E3FC;\n",
              "    }\n",
              "\n",
              "    [theme=dark] .colab-df-convert:hover {\n",
              "      background-color: #434B5C;\n",
              "      box-shadow: 0px 1px 3px 1px rgba(0, 0, 0, 0.15);\n",
              "      filter: drop-shadow(0px 1px 2px rgba(0, 0, 0, 0.3));\n",
              "      fill: #FFFFFF;\n",
              "    }\n",
              "  </style>\n",
              "\n",
              "    <script>\n",
              "      const buttonEl =\n",
              "        document.querySelector('#df-588c77a9-a6ee-49bd-9454-d7c9bad40f98 button.colab-df-convert');\n",
              "      buttonEl.style.display =\n",
              "        google.colab.kernel.accessAllowed ? 'block' : 'none';\n",
              "\n",
              "      async function convertToInteractive(key) {\n",
              "        const element = document.querySelector('#df-588c77a9-a6ee-49bd-9454-d7c9bad40f98');\n",
              "        const dataTable =\n",
              "          await google.colab.kernel.invokeFunction('convertToInteractive',\n",
              "                                                    [key], {});\n",
              "        if (!dataTable) return;\n",
              "\n",
              "        const docLinkHtml = 'Like what you see? Visit the ' +\n",
              "          '<a target=\"_blank\" href=https://colab.research.google.com/notebooks/data_table.ipynb>data table notebook</a>'\n",
              "          + ' to learn more about interactive tables.';\n",
              "        element.innerHTML = '';\n",
              "        dataTable['output_type'] = 'display_data';\n",
              "        await google.colab.output.renderOutput(dataTable, element);\n",
              "        const docLink = document.createElement('div');\n",
              "        docLink.innerHTML = docLinkHtml;\n",
              "        element.appendChild(docLink);\n",
              "      }\n",
              "    </script>\n",
              "  </div>\n",
              "\n",
              "\n",
              "    <div id=\"df-bc144b18-57ee-46b7-8f57-6e4be9e10bd9\">\n",
              "      <button class=\"colab-df-quickchart\" onclick=\"quickchart('df-bc144b18-57ee-46b7-8f57-6e4be9e10bd9')\"\n",
              "                title=\"Suggest charts\"\n",
              "                style=\"display:none;\">\n",
              "\n",
              "<svg xmlns=\"http://www.w3.org/2000/svg\" height=\"24px\"viewBox=\"0 0 24 24\"\n",
              "     width=\"24px\">\n",
              "    <g>\n",
              "        <path d=\"M19 3H5c-1.1 0-2 .9-2 2v14c0 1.1.9 2 2 2h14c1.1 0 2-.9 2-2V5c0-1.1-.9-2-2-2zM9 17H7v-7h2v7zm4 0h-2V7h2v10zm4 0h-2v-4h2v4z\"/>\n",
              "    </g>\n",
              "</svg>\n",
              "      </button>\n",
              "\n",
              "<style>\n",
              "  .colab-df-quickchart {\n",
              "      --bg-color: #E8F0FE;\n",
              "      --fill-color: #1967D2;\n",
              "      --hover-bg-color: #E2EBFA;\n",
              "      --hover-fill-color: #174EA6;\n",
              "      --disabled-fill-color: #AAA;\n",
              "      --disabled-bg-color: #DDD;\n",
              "  }\n",
              "\n",
              "  [theme=dark] .colab-df-quickchart {\n",
              "      --bg-color: #3B4455;\n",
              "      --fill-color: #D2E3FC;\n",
              "      --hover-bg-color: #434B5C;\n",
              "      --hover-fill-color: #FFFFFF;\n",
              "      --disabled-bg-color: #3B4455;\n",
              "      --disabled-fill-color: #666;\n",
              "  }\n",
              "\n",
              "  .colab-df-quickchart {\n",
              "    background-color: var(--bg-color);\n",
              "    border: none;\n",
              "    border-radius: 50%;\n",
              "    cursor: pointer;\n",
              "    display: none;\n",
              "    fill: var(--fill-color);\n",
              "    height: 32px;\n",
              "    padding: 0;\n",
              "    width: 32px;\n",
              "  }\n",
              "\n",
              "  .colab-df-quickchart:hover {\n",
              "    background-color: var(--hover-bg-color);\n",
              "    box-shadow: 0 1px 2px rgba(60, 64, 67, 0.3), 0 1px 3px 1px rgba(60, 64, 67, 0.15);\n",
              "    fill: var(--button-hover-fill-color);\n",
              "  }\n",
              "\n",
              "  .colab-df-quickchart-complete:disabled,\n",
              "  .colab-df-quickchart-complete:disabled:hover {\n",
              "    background-color: var(--disabled-bg-color);\n",
              "    fill: var(--disabled-fill-color);\n",
              "    box-shadow: none;\n",
              "  }\n",
              "\n",
              "  .colab-df-spinner {\n",
              "    border: 2px solid var(--fill-color);\n",
              "    border-color: transparent;\n",
              "    border-bottom-color: var(--fill-color);\n",
              "    animation:\n",
              "      spin 1s steps(1) infinite;\n",
              "  }\n",
              "\n",
              "  @keyframes spin {\n",
              "    0% {\n",
              "      border-color: transparent;\n",
              "      border-bottom-color: var(--fill-color);\n",
              "      border-left-color: var(--fill-color);\n",
              "    }\n",
              "    20% {\n",
              "      border-color: transparent;\n",
              "      border-left-color: var(--fill-color);\n",
              "      border-top-color: var(--fill-color);\n",
              "    }\n",
              "    30% {\n",
              "      border-color: transparent;\n",
              "      border-left-color: var(--fill-color);\n",
              "      border-top-color: var(--fill-color);\n",
              "      border-right-color: var(--fill-color);\n",
              "    }\n",
              "    40% {\n",
              "      border-color: transparent;\n",
              "      border-right-color: var(--fill-color);\n",
              "      border-top-color: var(--fill-color);\n",
              "    }\n",
              "    60% {\n",
              "      border-color: transparent;\n",
              "      border-right-color: var(--fill-color);\n",
              "    }\n",
              "    80% {\n",
              "      border-color: transparent;\n",
              "      border-right-color: var(--fill-color);\n",
              "      border-bottom-color: var(--fill-color);\n",
              "    }\n",
              "    90% {\n",
              "      border-color: transparent;\n",
              "      border-bottom-color: var(--fill-color);\n",
              "    }\n",
              "  }\n",
              "</style>\n",
              "\n",
              "      <script>\n",
              "        async function quickchart(key) {\n",
              "          const quickchartButtonEl =\n",
              "            document.querySelector('#' + key + ' button');\n",
              "          quickchartButtonEl.disabled = true;  // To prevent multiple clicks.\n",
              "          quickchartButtonEl.classList.add('colab-df-spinner');\n",
              "          try {\n",
              "            const charts = await google.colab.kernel.invokeFunction(\n",
              "                'suggestCharts', [key], {});\n",
              "          } catch (error) {\n",
              "            console.error('Error during call to suggestCharts:', error);\n",
              "          }\n",
              "          quickchartButtonEl.classList.remove('colab-df-spinner');\n",
              "          quickchartButtonEl.classList.add('colab-df-quickchart-complete');\n",
              "        }\n",
              "        (() => {\n",
              "          let quickchartButtonEl =\n",
              "            document.querySelector('#df-bc144b18-57ee-46b7-8f57-6e4be9e10bd9 button');\n",
              "          quickchartButtonEl.style.display =\n",
              "            google.colab.kernel.accessAllowed ? 'block' : 'none';\n",
              "        })();\n",
              "      </script>\n",
              "    </div>\n",
              "\n",
              "    </div>\n",
              "  </div>\n"
            ],
            "application/vnd.google.colaboratory.intrinsic+json": {
              "type": "dataframe",
              "summary": "{\n  \"name\": \"plt\",\n  \"rows\": 5,\n  \"fields\": [\n    {\n      \"column\": \"Gaussian\",\n      \"properties\": {\n        \"dtype\": \"number\",\n        \"std\": 1.2956291902465787e-07,\n        \"min\": 1.4867195147342977e-06,\n        \"max\": 1.814431190182024e-06,\n        \"num_unique_values\": 5,\n        \"samples\": [\n          1.5628671089492902e-06,\n          1.814431190182024e-06,\n          1.6427505880450713e-06\n        ],\n        \"semantic_type\": \"\",\n        \"description\": \"\"\n      }\n    },\n    {\n      \"column\": \"Cumulative Sum\",\n      \"properties\": {\n        \"dtype\": \"number\",\n        \"std\": 2.667347664732186e-08,\n        \"min\": 1.4867203672599155e-08,\n        \"max\": 8.233317644794483e-08,\n        \"num_unique_values\": 5,\n        \"samples\": [\n          3.0495883723999357e-08,\n          8.233317644794483e-08,\n          4.6923399024431085e-08\n        ],\n        \"semantic_type\": \"\",\n        \"description\": \"\"\n      }\n    }\n  ]\n}"
            }
          },
          "metadata": {}
        },
        {
          "output_type": "display_data",
          "data": {
            "text/plain": [
              "<Figure size 640x480 with 1 Axes>"
            ],
            "image/png": "[encoded data removed]"
          },
          "metadata": {}
        }
      ],
      "source": [
        "def gaussian(x, mu=0, sigma=1):\n",
        "    \"\"\"\n",
        "    Function that returns a normalized gaussian bell curve.\n",
        "\n",
        "    Args:\n",
        "        x (np.ndarray): The input vector.\n",
        "        mu (float, optional): The mean of the gaussian. Defaults to 0.\n",
        "        sigma (float, optional): The standard deviation of the gaussian. Defaults to 1.\n",
        "\n",
        "    Returns:\n",
        "        np.ndarray: The gaussian values for the input x.\n",
        "    \"\"\"\n",
        "    return (1 / np.sqrt(2 * np.pi * sigma**2)) * np.exp(-((x - mu)**2) / (2 * sigma**2))\n",
        "\n",
        "# Create an x-vector\n",
        "x = np.arange(-5, 5, 0.01)\n",
        "\n",
        "# Calculate the corresponding values of the gaussian\n",
        "y_gaussian = gaussian(x)\n",
        "\n",
        "# Use the cumsum function from numpy to create the cummulative sum\n",
        "y_cumulative = np.cumsum(y_gaussian)\n",
        "\n",
        "# Normalize the cumulative sum using a lambda function\n",
        "normalize = lambda arr: arr / arr[-1]\n",
        "y_cumulative_normalized = normalize(y_cumulative)\n",
        "\n",
        "# Put both y-vectors into a DataFrame with x as the index\n",
        "df = pd.DataFrame({'Gaussian': y_gaussian, 'Cumulative Sum': y_cumulative_normalized}, index=x)\n",
        "display(df.head())\n",
        "\n",
        "# Plot the output\n",
        "fig, ax = plt.subplots()\n",
        "ax.plot(df.index, df['Gaussian'], label='Gaussian')\n",
        "ax.plot(df.index, df['Cumulative Sum'], label='Cumulative Sum')\n",
        "ax.set_xlabel('x')\n",
        "ax.set_ylabel('Value')\n",
        "ax.set_title('Gaussian and Normalized Cumulative Sum')\n",
        "ax.legend()\n",
        "plt.show()"
      ]
    },
    {
      "cell_type": "markdown",
      "metadata": {
        "id": "urza4xAMLhtf"
      },
      "source": [
        "# Optimisation in science\n",
        "<div>\n",
        "<img src=\"https://github.com/luchem/BioChemistry/blob/master/lectures/Data/KEMM30_007.png?raw=1\" width=\"600\">\n",
        "</div>\n",
        "\n",
        "How do you get there? or better,how do you get there without producing a lot of nonsense\n",
        "Counting parameter. e.g. 10 peaks, each position, width, intensity =30 parameter plus background. So fitting is about intelligence. Think, $\\textbf{optimize}$ the smallest amount of parameter starting with a good guess\n",
        "\n",
        "One parameter optimisation (middle = mu)\n",
        "<div>\n",
        "<img src=\"https://github.com/luchem/BioChemistry/blob/master/lectures/Data/error_way.png?raw=1\" width=\"1000\">\n",
        "</div>\n",
        "\n",
        "<div>\n",
        "<img src=\"https://github.com/luchem/BioChemistry/blob/master/lectures/Data/KEMM30_008.jpg?raw=1\" width=\"700\">\n",
        "</div>\n",
        "\n"
      ]
    },
    {
      "cell_type": "markdown",
      "metadata": {
        "id": "hpMU-fAdLhtf"
      },
      "source": [
        "# Parameter optimisation: Fitting vs. optimisation\n",
        "\n",
        "In science as in any research we try to make statements based upon our data. For this we need to extract these numbers from our data. To do this in a standardized way we \"refine\" a model function to our data.\n",
        "\n",
        "In this course we will focus on three related methods to do that. In the advanced tasks below we will briefly mention a few more. The implementations of refining we will be looking into are:\n",
        "\n",
        "1. **Curve Fit**<br>\n",
        "   Curve fit is intended for exactly what the name says, fitting a single curve to data. Important is that the parameters are non dependent on each other. So think fitting a line, or a simple polynom.\n",
        "2. **Scipy minimize**<br>\n",
        "    Scipy minimize is a powerful function for optimization and the standard. It can use many minimization functions. It requires that we write a cost function. Parameter are handled as lists.\n",
        "3. **LMfit**\n",
        "    Is pretty much an \"add-on\" to scipy minimize. It has a number of special features, but we will focus on its parameter handling. As for scipy minimize you have to write a cost function. Parameter are however handled as dictionary type objects.\n",
        "\n",
        "\n",
        "## Curve Fit\n",
        "Starting with `curve_fit`. We assume that we have a flat function that has a clear gradient to the minimum (see top of this page) then we can use `curve_fit` to fast measure the parameter we need"
      ]
    },
    {
      "cell_type": "code",
      "execution_count": null,
      "metadata": {
        "id": "Q1FX2X5lLhtf"
      },
      "outputs": [],
      "source": [
        "def decay(x, I0=1, lifetime=1):\n",
        "    \"\"\" Exponential decay function \"\"\"\n",
        "    return I0 * np.exp(-x / lifetime)\n",
        "\n",
        "# create some data with some randomness and plot it\n",
        "x = np.linspace(0, 5, 200)\n",
        "y = decay(x, I0=0.9, lifetime=1.1)\n",
        "y += 0.5 * y * np.random.random(np.shape(x))"
      ]
    },
    {
      "cell_type": "code",
      "execution_count": null,
      "metadata": {
        "id": "i8zX1g_VLhtg"
      },
      "outputs": [],
      "source": [
        "# make a guess (starting values)\n",
        "p0 = [0.8, 0.9]  # in order as in function\n",
        "\n",
        "# optimise\n",
        "popt, pcov = curve_fit(decay, xdata=x, ydata=y, p0=p0)\n",
        "\n",
        "# plot both\n",
        "fig, ax = plt.subplots()\n",
        "ax.plot(x, y, \"o\", label=\"data\")\n",
        "ax.plot(x, decay(x, I0=p0[0], lifetime=p0[1]), \"b-\", label=\"guess\")\n",
        "ax.plot(x, decay(x, I0=popt[0], lifetime=popt[1]), \"r-\", label=\"fit\")\n",
        "ax.legend()\n",
        "\n",
        "# get errors from the covariance matrix (works here, but careful)\n",
        "perr = np.sqrt(np.diag(pcov))\n",
        "df = pd.DataFrame({\"values\": popt, \"errors\": perr}, index=[\"I0\", \"lifetime\"])\n",
        "ax.text(x=2, y=0.4, s=df.to_string());"
      ]
    },
    {
      "cell_type": "markdown",
      "metadata": {
        "id": "LiPvly3SLhtg"
      },
      "source": [
        "The key bit\n",
        "```python\n",
        "from scipy.optimize import curve_fit\n",
        "popt,pcov = curve_fit(decay, xdata=x, ydata=y,p0=p0)\n",
        "```\n",
        "curve fit is a least square method that takes a function, the target data and a set of starting parameters, that are in order the parameter after the first.\n",
        "it returns:\n",
        "`popt = optimized` parameter\n",
        "and\n",
        "`pcov = covariance` matrix.\n",
        "`p_sigma = np.sqrt(np.diag(pcov))`\n"
      ]
    },
    {
      "cell_type": "markdown",
      "metadata": {
        "id": "611vujkkLhtg"
      },
      "source": [
        "<div>\n",
        "<img src=\"https://github.com/luchem/BioChemistry/blob/master/lectures/Data/KEMM30_009.jpg?raw=1\" width=\"800\">\n",
        "</div>"
      ]
    },
    {
      "cell_type": "markdown",
      "metadata": {
        "id": "KWHBPfAWLhth"
      },
      "source": [
        "## Task:\n",
        "\n",
        "1. Read the file `fit_0.csv`\n",
        "2. Fit the peak in the file\n",
        "3. plot both, data and fits:\n",
        "4. What is the center position of the peak?"
      ]
    },
    {
      "cell_type": "markdown",
      "metadata": {
        "id": "SPQrNPE3Lhth"
      },
      "source": [
        "## Scipy minimize\n",
        "\n",
        "Second way of optimisation uses in addition to the \"cost function\" an \"error function\". The task of the second function is to create a \"price\" for this parameter. The Minimize function is then minimizing this price.\n",
        "\n",
        "### Parameter unpacking\n",
        "\n",
        "Note how `*p` _unpacks_ the list into the positional function arguments."
      ]
    },
    {
      "cell_type": "code",
      "execution_count": null,
      "metadata": {
        "id": "3SIaXA2eLhth"
      },
      "outputs": [],
      "source": [
        "# redefine gauss to work with parameter vector p=mu,sigma,offset,scale\n",
        "def gauss(x, mu=0, sigma=1, offset=0, scale=1):\n",
        "    prefactor = 1 / np.sqrt(2 * np.pi * sigma**2)\n",
        "    e_function = np.exp((-0.5 / sigma**2) * np.subtract(x, mu)**2)\n",
        "    return prefactor * scale * e_function + offset\n",
        "\n",
        "\n",
        "# create some data\n",
        "x = np.linspace(-5, 5, 200)\n",
        "p = [0.5, 0.5, 0, 1]\n",
        "y = gauss(x, *p)\n",
        "y += y * 0.5 * np.random.random(np.shape(x))"
      ]
    },
    {
      "cell_type": "markdown",
      "metadata": {
        "id": "Zs7rChMdLhti"
      },
      "source": [
        "The new thing is that you need a second function that produces you a single \"error\" value"
      ]
    },
    {
      "cell_type": "code",
      "execution_count": null,
      "metadata": {
        "id": "XTQglrb5Lhti"
      },
      "outputs": [],
      "source": [
        "def min_gauss(p, x, y):\n",
        "    \"\"\"Root mean square function\"\"\"\n",
        "    return np.sqrt(\n",
        "        ((y - gauss(x, *p))**2).sum()\n",
        "    )\n",
        "\n",
        "def min_gauss_lin(p, x, y):\n",
        "    \"\"\"\n",
        "    This is a different cost function that uses a more linear approach.\n",
        "    It does not \"punish\" strong deviations as much. As such it has the\n",
        "    tendency to be more outlier stable but preforms bad for peaks.\n",
        "    \"\"\"\n",
        "    return np.abs(y - gauss(x, *p)).sum()"
      ]
    },
    {
      "cell_type": "code",
      "execution_count": null,
      "metadata": {
        "id": "ADWlrDCfLhti"
      },
      "outputs": [],
      "source": [
        "x0 = [0.6, 0.7, 0.1, 0.9]\n",
        "\n",
        "# nelder-Mead is a standard multi-parameter optimiser. check out other choices:\n",
        "out = minimize(min_gauss, x0=x0, args=(x, y), method=\"Nelder-Mead\")\n",
        "out2 = minimize(min_gauss_lin, x0=x0, args=(x, y), method=\"Nelder-Mead\")\n",
        "\n",
        "print(out)"
      ]
    },
    {
      "cell_type": "markdown",
      "metadata": {
        "id": "SOFhRrmWLhtj"
      },
      "source": [
        "compare the x vector and the x0 vector to see that the optimization has worked"
      ]
    },
    {
      "cell_type": "code",
      "execution_count": null,
      "metadata": {
        "id": "hx2VTRGXLhtj"
      },
      "outputs": [],
      "source": [
        "fig, ax = plt.subplots(figsize=(8, 8))\n",
        "ax.plot(x, y, \"o\", ms=5, label=\"data\")\n",
        "ax.set_xlabel(\"measured value\")\n",
        "ax.set_ylabel(\"occurance\")\n",
        "ax.plot(x, gauss(x, *x0), color=\"blue\", lw=2, alpha=0.5, label=\"start\")\n",
        "ax.plot(x, gauss(x, *out[\"x\"]), color=\"red\", linestyle=\"dashed\", lw=2, label=\"fit_sqrt\")\n",
        "ax.plot(x, gauss(x, *out2[\"x\"]), color=\"green\", lw=2, zorder=0, label=\"fit_lin\")\n",
        "ax.legend();"
      ]
    },
    {
      "cell_type": "markdown",
      "metadata": {
        "id": "NPEGCyviLhtj"
      },
      "source": [
        "# Functions with dictionaries for parameter handling\n",
        "\n",
        "While it is very useful to hand lists of parameters to a function it is very difficult to keep track of what parameter is where,\n",
        "what it does and when it is updated. A good habbit is to define parameter with dictionaries or Pandas DataFrames."
      ]
    },
    {
      "cell_type": "code",
      "execution_count": null,
      "metadata": {
        "id": "JCzf9RF2Lhtj"
      },
      "outputs": [],
      "source": [
        "def gauss_with_names(x, par):  # the function that is your model\n",
        "    \"\"\"\n",
        "    Gaussian type Peak function.\n",
        "\n",
        "    Parameters:\n",
        "    sigma and mu are mandatory, scale and offset are optional\n",
        "    \"\"\"\n",
        "\n",
        "    pre_factor = 1 / np.sqrt(2 * np.pi * (par[\"sigma\"]**2))\n",
        "    exponent = (-0.5 / par[\"sigma\"] ** 2) * (x - par[\"mu\"])**2\n",
        "\n",
        "    if \"scale\" in list(par.keys()):\n",
        "        pre_factor *= par[\"scale\"]\n",
        "    if \"offset\" in list(par.keys()):\n",
        "        return pre_factor * np.exp(exponent) + par[\"offset\"]\n",
        "    else:\n",
        "        return pre_factor * np.exp(exponent)\n",
        "\n",
        "def min_gauss(par, x, y):\n",
        "    \"\"\"The root mean square (we skip the root as the minimum is the minimum)\"\"\"\n",
        "    return np.sqrt(((y - gauss_with_names(x, par)) ** 2).sum())"
      ]
    },
    {
      "cell_type": "markdown",
      "metadata": {
        "id": "wc25AfYeLhtj"
      },
      "source": [
        "# LMFIT\n",
        "\n",
        "While scipy minimize is a very useful tool, it is still a bit difficult to handle parameters (counting positions can produce errors). A very nice tool that was developed for this purpose is lmfit.\n",
        "\n"
      ]
    },
    {
      "cell_type": "code",
      "execution_count": null,
      "metadata": {
        "id": "r-POoXIMLhtk"
      },
      "outputs": [],
      "source": [
        "!pip install lmfit\n",
        "import lmfit"
      ]
    },
    {
      "cell_type": "code",
      "execution_count": null,
      "metadata": {
        "id": "UU-DUVo-Lhtk"
      },
      "outputs": [],
      "source": [
        "# first create a parameter object\n",
        "par = lmfit.Parameters()  # create empty parameter object\n",
        "\n",
        "par.add(\"mu\", value=0.4, vary=True)  # Add a parameter\n",
        "par.add(\"sigma\", value=0.5, vary=True)  # Add a parameter\n",
        "par.add(\"scale\", value=1, vary=True)  # Add a parameter\n",
        "\n",
        "mini = lmfit.Minimizer(min_gauss, par, fcn_kws={\"x\": x, \"y\": y})  # Add a parameter\n",
        "results = mini.minimize(\"nelder\")\n",
        "results"
      ]
    },
    {
      "cell_type": "markdown",
      "metadata": {
        "id": "Bcuf3JQ3Lhtk"
      },
      "source": [
        "## Tasks:\n",
        "\n",
        "1. Read the files\n",
        "2. Fit files using either minimize or lmfit (or both if you want to train)\n",
        "3. plot both: data and fits:\n",
        "\n",
        "* `fit_0.csv`\n",
        "* `fit_1.csv`  here: try first a separate fit, in which you fit the linear range and then separately the peak.\n",
        "* `fit_3.csv` (two peaks and background)"
      ]
    },
    {
      "cell_type": "code",
      "execution_count": null,
      "metadata": {
        "id": "8AYACZOKLhtk"
      },
      "outputs": [],
      "source": [
        "# We use pooch to import external data files from our Github repo\n",
        "!pip install -q pooch\n",
        "from pooch import retrieve\n",
        "repo = \"https://raw.githubusercontent.com/luchem/KEMM30/master/\""
      ]
    },
    {
      "cell_type": "code",
      "execution_count": null,
      "metadata": {
        "id": "LVeUniktLhtk"
      },
      "outputs": [],
      "source": [
        "path1 = retrieve(f\"{repo}/lectures/Data/fit_0.csv\", known_hash='a0f852c915d398d968059fd8ffbd7b7eeee9628b06e3c8f03817950eb358dbee')"
      ]
    },
    {
      "cell_type": "code",
      "execution_count": null,
      "metadata": {
        "id": "vSTMEmLJLhtl"
      },
      "outputs": [],
      "source": [
        "path2 = retrieve(f\"{repo}/lectures/Data/fit_1.csv\", known_hash='0fb5836ee33ab60af1efa001867f9075834e01ba613c4e8c1bce0da1f39401e6')"
      ]
    },
    {
      "cell_type": "code",
      "execution_count": null,
      "metadata": {
        "id": "jXPD324tLhtl"
      },
      "outputs": [],
      "source": [
        "path3 = retrieve(f\"{repo}/lectures/Data/fit_3.csv\", known_hash='6774c146a481ed9654e80821523d2031990bddc792c0404fd4b294fcd5f2cc45')"
      ]
    },
    {
      "cell_type": "markdown",
      "metadata": {
        "id": "muWnIWyvLhtl"
      },
      "source": [
        "# Advanced\n",
        "## Additional Modules to look into\n",
        "\n",
        "1. **Statistical tools**<br>\n",
        "    1. `scipy.stats` While there are a lot of statistical tools available in pandas and numpy, there are also some specialized tools for that.  scipy.stats offers you a wide range of tools for testing and correlation analysis        \n",
        "    2. `statsmodels` offers a central API very similar to R and is pretty much the portation of R to python\n",
        "2. **Numbers, constants, errors**\n",
        "    1. `scipy.constants` <br>\n",
        "    Numpy might contain some of the most used constants. this database however is specialized on providing all potential values.\n",
        "    2. `uncertainties`<br>\n",
        "    is a package that allows the calculation with numbers including error values. This tool takes care of all the error propagation.\n",
        "\n",
        "3. **Biopython**<br>\n",
        "    is a specialized suite for biological calculations and datahandling.\n",
        "\n",
        "4. GUI<br>\n",
        "    1. build in is TKinter. This is a standard platform that makes GUI maybe not nice, but easy\n",
        "    2. QT is certainly the most powerful GUI generation tool, but not always the easiest\n",
        "    3. pythonwx is a useful package\n",
        "    \n",
        "There is an endless number of very powerful calculation tools for pretty much any purpose. Before starting on a new I highly recommend to check how professional it is done. A good indication are extensive documentation, example use cases and very limited requirements (dependencies).\n",
        "    "
      ]
    },
    {
      "cell_type": "code",
      "execution_count": null,
      "metadata": {
        "id": "LduT3WWqLhtl"
      },
      "outputs": [],
      "source": []
    }
  ],
  "metadata": {
    "kernelspec": {
      "display_name": "Python 3 (ipykernel)",
      "language": "python",
      "name": "python3"
    },
    "language_info": {
      "codemirror_mode": {
        "name": "ipython",
        "version": 3
      },
      "file_extension": ".py",
      "mimetype": "text/x-python",
      "name": "python",
      "nbconvert_exporter": "python",
      "pygments_lexer": "ipython3",
      "version": "3.12.7"
    },
    "colab": {
      "provenance": [],
      "include_colab_link": true
    }
  },
  "nbformat": 4,
  "nbformat_minor": 0
}