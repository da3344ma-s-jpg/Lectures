{
  "cells": [
    {
      "cell_type": "markdown",
      "metadata": {
        "id": "view-in-github",
        "colab_type": "text"
      },
      "source": [
        "<a href=\"https://colab.research.google.com/github/da3344ma-s-jpg/Lectures/blob/main/lectures/05-strings.ipynb\" target=\"_parent\"><img src=\"https://colab.research.google.com/assets/colab-badge.svg\" alt=\"Open In Colab\"/></a>"
      ]
    },
    {
      "cell_type": "markdown",
      "metadata": {
        "id": "DD_1X6Nlofnx"
      },
      "source": [
        "# Strings\n",
        "\n",
        "String are of type `str` and are used to store text."
      ]
    },
    {
      "cell_type": "markdown",
      "metadata": {
        "id": "ynL_HdJHofn4"
      },
      "source": [
        "## Creation"
      ]
    },
    {
      "cell_type": "code",
      "execution_count": null,
      "metadata": {
        "id": "5Xc2SJIBofn4"
      },
      "outputs": [],
      "source": [
        "'this is a string'"
      ]
    },
    {
      "cell_type": "code",
      "execution_count": null,
      "metadata": {
        "id": "CgGRn6Yjofn6"
      },
      "outputs": [],
      "source": [
        "str('this is also a string')"
      ]
    },
    {
      "cell_type": "code",
      "execution_count": null,
      "metadata": {
        "id": "q82JJKoPofn7"
      },
      "outputs": [],
      "source": [
        "\"so is this\" # here we used \"\" instead of ''"
      ]
    },
    {
      "cell_type": "code",
      "execution_count": 21,
      "metadata": {
        "colab": {
          "base_uri": "https://localhost:8080/"
        },
        "id": "L2FoNqgOofn7",
        "outputId": "88c54cb7-58c5-403f-a3b7-5fdd0ea2e6de"
      },
      "outputs": [
        {
          "output_type": "execute_result",
          "data": {
            "text/plain": [
              "str"
            ]
          },
          "metadata": {},
          "execution_count": 21
        }
      ],
      "source": [
        "type(_) # get the type of the last output"
      ]
    },
    {
      "cell_type": "code",
      "execution_count": null,
      "metadata": {
        "id": "flztkNtuofn8"
      },
      "outputs": [],
      "source": [
        "a = '''we can also\n",
        "create a string over\n",
        "multiple lines''' # we assign the string to a variable `a`\n",
        "a"
      ]
    },
    {
      "cell_type": "markdown",
      "metadata": {
        "id": "nyohT8CYofn9"
      },
      "source": [
        "Notice that each newline (`\\n`) is saved in the string and is included when printing. Strings can also be added together."
      ]
    },
    {
      "cell_type": "code",
      "execution_count": null,
      "metadata": {
        "id": "BsgjKUEPofn9"
      },
      "outputs": [],
      "source": [
        "print(a + ' and we can add more \\nstuff')"
      ]
    },
    {
      "cell_type": "markdown",
      "metadata": {
        "id": "5njQqr47ofn_"
      },
      "source": [
        "String can also contain so-called unicode characters which is an international standard for letters, symbols, and emojies."
      ]
    },
    {
      "cell_type": "code",
      "execution_count": null,
      "metadata": {
        "id": "FgUH6Xlwofn_"
      },
      "outputs": [],
      "source": [
        "print('\\N{ghost}', '\\N{greek small letter gamma}') # unicode, see here: https://unicode.org/emoji/charts/full-emoji-list.html"
      ]
    },
    {
      "cell_type": "markdown",
      "metadata": {
        "id": "KDxjspXiofoB"
      },
      "source": [
        "## Common Operations, Indexing and Slicing"
      ]
    },
    {
      "cell_type": "markdown",
      "metadata": {
        "id": "Dc_EoFA5ofoB"
      },
      "source": [
        "Let's illustrate a few operations we can perform on strings. The [Python documentation](https://docs.python.org/2/library/stdtypes.html#string-methods) will give you a comprehensive list of things to do."
      ]
    },
    {
      "cell_type": "code",
      "execution_count": null,
      "metadata": {
        "id": "xa0jCfaOofoC"
      },
      "outputs": [],
      "source": [
        "a = 'All work and no play makes Jack a dull boy'"
      ]
    },
    {
      "cell_type": "code",
      "execution_count": null,
      "metadata": {
        "id": "P5ubZ-pXofoD"
      },
      "outputs": [],
      "source": [
        "len(a) # number of characters"
      ]
    },
    {
      "cell_type": "code",
      "execution_count": null,
      "metadata": {
        "id": "kMZhIhn5ofoE"
      },
      "outputs": [],
      "source": [
        "a.replace('dull boy', 'dullboy') # a is not changed, but a new str is returned"
      ]
    },
    {
      "cell_type": "code",
      "execution_count": null,
      "metadata": {
        "id": "vS-Fyr1XofoF"
      },
      "outputs": [],
      "source": [
        "a.split(' ') # create a list of words using space (' ') as a delimiter. More on lists later."
      ]
    },
    {
      "cell_type": "markdown",
      "metadata": {
        "id": "_of2gLSjofoF"
      },
      "source": [
        "With _indexing_ and _slicing_ we can for example extract parts of the string or reverse it. The format for slicing is `str[begin:end:step]` where `begin` is inclusive and `end` is exclusive, i.e. `[begin:end[`. By default the `step` is 1. More information [here.](https://www.digitalocean.com/community/tutorials/how-to-index-and-slice-strings-in-python-3)"
      ]
    },
    {
      "cell_type": "code",
      "execution_count": null,
      "metadata": {
        "id": "k3yPiHM9ofoF"
      },
      "outputs": [],
      "source": [
        "a[0]   # first letter in string. Note that in python, counting always starts at index zero (0)"
      ]
    },
    {
      "cell_type": "code",
      "execution_count": null,
      "metadata": {
        "id": "6iPQC5rgofoG"
      },
      "outputs": [],
      "source": [
        "a[-1]  # last letter in string. W. negative index we count backwards"
      ]
    },
    {
      "cell_type": "code",
      "execution_count": null,
      "metadata": {
        "id": "G2WxKtkIofoG"
      },
      "outputs": [],
      "source": [
        "a[0:3] # index (letter) [0 to 3[."
      ]
    },
    {
      "cell_type": "code",
      "execution_count": null,
      "metadata": {
        "id": "mSZyxj-9ofoG"
      },
      "outputs": [],
      "source": [
        "a[1:3] # index number [1 to 3[."
      ]
    },
    {
      "cell_type": "code",
      "execution_count": null,
      "metadata": {
        "id": "Hj5n5eIsofoH"
      },
      "outputs": [],
      "source": [
        "a[::2] # skip every second letter"
      ]
    },
    {
      "cell_type": "code",
      "execution_count": null,
      "metadata": {
        "id": "p5qPEKX-ofoI"
      },
      "outputs": [],
      "source": [
        "a[::-1] # reverse the whole string"
      ]
    },
    {
      "cell_type": "code",
      "execution_count": null,
      "metadata": {
        "id": "YIqJu0TwofoI"
      },
      "outputs": [],
      "source": [
        "a*4 # repeat n times"
      ]
    },
    {
      "cell_type": "markdown",
      "metadata": {
        "id": "_Vs4bfhDofoJ"
      },
      "source": [
        "## Exercises\n",
        "\n",
        "### Part 1\n",
        "\n",
        "On a single line of code, slice `a` to extract the word \"play\" and then reverse it to form \"yalp\""
      ]
    },
    {
      "cell_type": "code",
      "source": [
        "a = \"play\"\n",
        "print(a[3::-1])"
      ],
      "metadata": {
        "colab": {
          "base_uri": "https://localhost:8080/"
        },
        "id": "swR9syfQo9aq",
        "outputId": "92657f5f-c38e-45d9-d1c1-deb4010f6963"
      },
      "execution_count": 23,
      "outputs": [
        {
          "output_type": "stream",
          "name": "stdout",
          "text": [
            "yalp\n"
          ]
        }
      ]
    },
    {
      "cell_type": "markdown",
      "metadata": {
        "id": "k5fJI_3PofoJ"
      },
      "source": [
        "### Part 2\n",
        "\n",
        "Explain each line in the following code and make a new version with the same triangular layout but where the letters are printed to the _right_ of the smiley. Figure out what `\\N`, and `end` does."
      ]
    },
    {
      "cell_type": "code",
      "execution_count": 25,
      "metadata": {
        "colab": {
          "base_uri": "https://localhost:8080/"
        },
        "id": "l4JQL1ZeofoK",
        "outputId": "8886cc60-e1a0-4736-c2ec-4c890640a19f"
      },
      "outputs": [
        {
          "output_type": "stream",
          "name": "stdout",
          "text": [
            " p😀😀😀\n",
            "  l😀😀\n",
            "   a😀\n",
            "    y\n"
          ]
        }
      ],
      "source": [
        "i=1\n",
        "substring = a[0:20]\n",
        "for letter in substring:\n",
        "    print(' ' * i + letter, end = ( len(substring) - i ) * '\\N{grinning face}' + '\\n')\n",
        "    i += 1"
      ]
    },
    {
      "cell_type": "markdown",
      "source": [
        "Explicação linha a linha:\n",
        "\t1.\ti = 1\n",
        "Define a variável i que vai controlar quantos espaços imprimir antes da letra.\n",
        "\t2.\tsubstring = a[0:20]\n",
        "Cria uma substring com os primeiros 20 caracteres de a.\n",
        "\t3.\tfor letter in substring:\n",
        "Itera sobre cada letra da substring.\n",
        "\t4.\tprint(' ' * i + letter, end = ( len(substring) - i ) * '\\N{grinning face}' + '\\n')\n",
        "\t•\t' ' * i → imprime i espaços.\n",
        "\t•\t+ letter → imprime a letra atual.\n",
        "\t•\tO argumento end substitui o valor padrão (\"\\n\") por algo customizado:\n",
        "\t•\t(len(substring) - i) * '\\N{grinning face}' → imprime uma série de carinhas 😀, diminuindo a cada linha.\n",
        "\t•\t+ '\\n' → garante que a linha acaba com quebra de linha.\n",
        "\t5.\ti += 1\n",
        "Incrementa i para adicionar mais espaços na próxima linha.\n"
      ],
      "metadata": {
        "id": "wsPHwut0pnQh"
      }
    },
    {
      "cell_type": "code",
      "source": [
        "i = 1\n",
        "substring = a[0:20]\n",
        "for letter in substring:\n",
        "    print((len(substring) - i)*'\\N{grinning face}' + ' '*i + letter)\n",
        "    i += 1"
      ],
      "metadata": {
        "colab": {
          "base_uri": "https://localhost:8080/"
        },
        "id": "DEkob-m9pmyR",
        "outputId": "abee83bf-3b3a-4373-9a3b-23521cd6d8ec"
      },
      "execution_count": 26,
      "outputs": [
        {
          "output_type": "stream",
          "name": "stdout",
          "text": [
            "😀😀😀 p\n",
            "😀😀  l\n",
            "😀   a\n",
            "    y\n"
          ]
        }
      ]
    },
    {
      "cell_type": "markdown",
      "metadata": {
        "id": "eYA7d-d4ofoK"
      },
      "source": [
        "### Part 3\n",
        "\n",
        "Create a _function_ that takes a string as _argument_ and returns the same string with every second character in UPPERCASE. For example, `hejsa` should become `HeJsA`. Equip your function with a descriptive [_docstring_](https://www.datacamp.com/community/tutorials/docstrings-python). Hint: the modulo operator, `%` can be used to check for odd and even number.\n"
      ]
    },
    {
      "cell_type": "code",
      "execution_count": 27,
      "metadata": {
        "colab": {
          "base_uri": "https://localhost:8080/"
        },
        "id": "TkJIx1jXofoK",
        "outputId": "401c271b-9f42-4bed-fe91-4fdcc05be704"
      },
      "outputs": [
        {
          "output_type": "stream",
          "name": "stdout",
          "text": [
            "hEjSa\n",
            "hElLo wOrLd\n"
          ]
        }
      ],
      "source": [
        "def capitalize_every_second(input_string):\n",
        "  \"\"\"\n",
        "  Capitalizes every second character of a string.\n",
        "\n",
        "  Args:\n",
        "    input_string: The string to process.\n",
        "\n",
        "  Returns:\n",
        "    The processed string with every second character capitalized.\n",
        "  \"\"\"\n",
        "  result = \"\"\n",
        "  for i, char in enumerate(input_string):\n",
        "    if i % 2 != 0: # Check if the index is odd (every second character)\n",
        "      result += char.upper()\n",
        "    else:\n",
        "      result += char\n",
        "  return result\n",
        "\n",
        "# Example usage:\n",
        "print(capitalize_every_second(\"hejsa\"))\n",
        "print(capitalize_every_second(\"hello world\"))"
      ]
    },
    {
      "cell_type": "markdown",
      "metadata": {
        "id": "81hEXEE1ofoL"
      },
      "source": [
        "## Convertion to and from Numbers\n",
        "Strings can be converted to and from numbers. Without control we can use the str() function."
      ]
    },
    {
      "cell_type": "code",
      "execution_count": 28,
      "metadata": {
        "colab": {
          "base_uri": "https://localhost:8080/"
        },
        "id": "4AcPug26ofoM",
        "outputId": "4b5629a7-9250-4458-c607-13c0e952faba"
      },
      "outputs": [
        {
          "output_type": "stream",
          "name": "stdout",
          "text": [
            "2.21 <class 'str'>\n",
            "2.21 <class 'float'>\n",
            "2.21 <class 'str'>\n"
          ]
        }
      ],
      "source": [
        "s1 = '2.21'     # a string\n",
        "f = float(s1)   # str->float\n",
        "s2 = str(f)     # float->str\n",
        "print(s1, type(s1))\n",
        "print(f, type(f))\n",
        "print(s2, type(s2))"
      ]
    },
    {
      "cell_type": "markdown",
      "metadata": {
        "id": "pIr2sZTCofoO"
      },
      "source": [
        "To convert to `int`, the string must represent an integer and thus cannot contain decimals."
      ]
    },
    {
      "cell_type": "code",
      "execution_count": 29,
      "metadata": {
        "colab": {
          "base_uri": "https://localhost:8080/"
        },
        "id": "bYe7ihBrofoR",
        "outputId": "e4e8284a-ee4e-4223-d297-3d4c0b0c94b1"
      },
      "outputs": [
        {
          "output_type": "stream",
          "name": "stdout",
          "text": [
            "10 <class 'int'>\n",
            "cannot convert \"5.5\" to int\n"
          ]
        }
      ],
      "source": [
        "for s in ['10', '5.5']: # list of strings\n",
        "    if s.isdigit():\n",
        "        i = int(s)\n",
        "        print(i, type(i))\n",
        "    else:\n",
        "        print(f'cannot convert \"{s}\" to int')"
      ]
    },
    {
      "cell_type": "markdown",
      "metadata": {
        "id": "v_wM_Rn4ofoS"
      },
      "source": [
        "In this part we have already used one of the two automatic ways how to combine text and numbers (with converting them)\n",
        "This can be a little bit confusing since there has recently been a change. If you are googling different solutions you will stumble over both ways to convert.\n",
        "\n",
        "It is important to note that since we are humans a lot of what we are interacting are strings (text). So this is something quite useful. Spending a bit more time on this also will pay of later when we talk about e.g. how to format the labels in a plot.  \n",
        "\n",
        "### Old string replacement method\n",
        "\n",
        "This is _not recommended_, but good to know for understanding legacy Python code.\n",
        "In the old string replacement method the general synthax is a string (here bold) followed by a '%()' that contains the values that are to be placed into the string in the order they appear in the text.\n",
        "\n",
        "**'This calculations returned %keyword1 as a result for %keyword2 iterations'**%(value_for_keyword1,value_for_keyword2)\n",
        "\n",
        "\"keyword1\" an \"keyword2\" then needs to indicate what format you want the number to have.\n",
        "Some that are commonly used are:\n",
        "\n",
        "* %i to place an integer\n",
        "* %s to place a string\n",
        "* %f to place a float,  %.3f  to place a float with 3 digits after the comma\n",
        "* %g that is a universal choice that chooses either a float or an exponential  "
      ]
    },
    {
      "cell_type": "code",
      "execution_count": null,
      "metadata": {
        "id": "1A5ZjIYQofoS"
      },
      "outputs": [],
      "source": [
        "'the value %.2f is only the first of %i entries with 2 after comma digits'%(5.,10)"
      ]
    },
    {
      "cell_type": "markdown",
      "metadata": {
        "id": "l6XDVV4iofoS"
      },
      "source": [
        "### New string replacement methods (recommended!)\n",
        "\n",
        "Using the new methods we don't need to specify the data type. Merely place a wavy bracket and use either `format` _or_ an [f-string](https://docs.python.org/3/tutorial/inputoutput.html):\n",
        "\n",
        "~~~ python\n",
        "'message: cannot convert \"{}\" to int'.format(s)\n",
        "\n",
        "f'message: cannot convert \"{s}\" to int' # this is an f-string (recommended!)\n",
        "~~~"
      ]
    },
    {
      "cell_type": "code",
      "execution_count": 30,
      "metadata": {
        "colab": {
          "base_uri": "https://localhost:8080/",
          "height": 36
        },
        "id": "Vo3WUYluofoT",
        "outputId": "4261076d-ee95-4b53-af34-2687a152e967"
      },
      "outputs": [
        {
          "output_type": "execute_result",
          "data": {
            "text/plain": [
              "'the value 5 is only the first of 10 entries'"
            ],
            "application/vnd.google.colaboratory.intrinsic+json": {
              "type": "string"
            }
          },
          "metadata": {},
          "execution_count": 30
        }
      ],
      "source": [
        "'the value {} is only the first of {} entries'.format(5,10)"
      ]
    },
    {
      "cell_type": "markdown",
      "metadata": {
        "id": "PspVIc9QofoV"
      },
      "source": [
        "Also here there are ways to define number of digits.<br>\n",
        "out if lazyness I will use the numpy package to get the value of pi"
      ]
    },
    {
      "cell_type": "code",
      "execution_count": 31,
      "metadata": {
        "colab": {
          "base_uri": "https://localhost:8080/",
          "height": 36
        },
        "id": "0V8tFV2YofoW",
        "outputId": "4583e3d8-7726-4ed0-a5f5-923c1d767d39"
      },
      "outputs": [
        {
          "output_type": "execute_result",
          "data": {
            "text/plain": [
              "'The number pi 3.14 is here limited to a total of 3 digits.'"
            ],
            "application/vnd.google.colaboratory.intrinsic+json": {
              "type": "string"
            }
          },
          "metadata": {},
          "execution_count": 31
        }
      ],
      "source": [
        "import numpy as np   # a package for numerical calculations; and contains pi\n",
        "f'The number pi {np.pi:.3} is here limited to a total of 3 digits.'"
      ]
    },
    {
      "cell_type": "markdown",
      "metadata": {
        "id": "4sEgzf9LofoX"
      },
      "source": [
        "The new formating has the advantage that also lists etc. can be formated automatically."
      ]
    },
    {
      "cell_type": "code",
      "execution_count": 32,
      "metadata": {
        "colab": {
          "base_uri": "https://localhost:8080/",
          "height": 36
        },
        "id": "1u4Tg1mkofoY",
        "outputId": "ad78b5ea-1d38-4708-828b-2deca6c44bfb"
      },
      "outputs": [
        {
          "output_type": "execute_result",
          "data": {
            "text/plain": [
              "'I can print the list [1, 2, 3] with this method in one go.'"
            ],
            "application/vnd.google.colaboratory.intrinsic+json": {
              "type": "string"
            }
          },
          "metadata": {},
          "execution_count": 32
        }
      ],
      "source": [
        "mylist = [1, 2, 3]\n",
        "f'I can print the list {mylist} with this method in one go.'"
      ]
    },
    {
      "cell_type": "markdown",
      "metadata": {
        "id": "2qeAXDzwofoZ"
      },
      "source": [
        "### Stepwise string creation\n",
        "\n",
        "finally, as you can combine different strings with \"+\" you can also create strings stepwise. In this case it is"
      ]
    },
    {
      "cell_type": "code",
      "execution_count": 33,
      "metadata": {
        "colab": {
          "base_uri": "https://localhost:8080/",
          "height": 36
        },
        "id": "L_Rm36iDofoa",
        "outputId": "270b7dfb-ef2e-4ad9-a2a1-d340425d3768"
      },
      "outputs": [
        {
          "output_type": "execute_result",
          "data": {
            "text/plain": [
              "'π = 3.142 and we used unicode to create the symbol'"
            ],
            "application/vnd.google.colaboratory.intrinsic+json": {
              "type": "string"
            }
          },
          "metadata": {},
          "execution_count": 33
        }
      ],
      "source": [
        "my_string = f'π = {np.pi:.3f}' + ' and we used unicode to create the symbol'\n",
        "my_string"
      ]
    },
    {
      "cell_type": "markdown",
      "metadata": {
        "id": "azUBCVtMofod"
      },
      "source": [
        "## Task\n",
        "Adjust the following code to generate the following text using any of the methods above.\n",
        "\n",
        "    The number pi 3.1 is here limited to a total of 2 digits.\n",
        "    The number pi 3.14 is here limited to a total of 3 digits.\n",
        "    The number pi 3.142 is here limited to a total of 4 digits."
      ]
    },
    {
      "cell_type": "code",
      "execution_count": 34,
      "metadata": {
        "colab": {
          "base_uri": "https://localhost:8080/"
        },
        "id": "pz589fruofoe",
        "outputId": "b9bd8884-a053-4aca-f281-5cc53c125623"
      },
      "outputs": [
        {
          "output_type": "stream",
          "name": "stdout",
          "text": [
            "The number pi xxx is here limited to a total of xxx digits.\n",
            "The number pi xxx is here limited to a total of xxx digits.\n",
            "The number pi xxx is here limited to a total of xxx digits.\n"
          ]
        }
      ],
      "source": [
        "print('The number pi xxx is here limited to a total of xxx digits.')\n",
        "print('The number pi xxx is here limited to a total of xxx digits.')\n",
        "print('The number pi xxx is here limited to a total of xxx digits.')"
      ]
    },
    {
      "cell_type": "code",
      "execution_count": 37,
      "metadata": {
        "colab": {
          "base_uri": "https://localhost:8080/"
        },
        "id": "JIkrIswbofoe",
        "outputId": "81d1c511-b27b-49c0-d4ac-0be0e9fc15e2"
      },
      "outputs": [
        {
          "output_type": "stream",
          "name": "stdout",
          "text": [
            "The number pi 3.1 is here limited to a total of 2 digits.\n",
            "The number pi 3.14 is here limited to a total of 3 digits.\n",
            "The number pi 3.142 is here limited to a total of 4 digits.\n"
          ]
        }
      ],
      "source": [
        "import numpy as np\n",
        "\n",
        "print(f'The number pi {np.pi:.2} is here limited to a total of 2 digits.')\n",
        "print(f'The number pi {np.pi:.3} is here limited to a total of 3 digits.')\n",
        "print(f'The number pi {np.pi:.4} is here limited to a total of 4 digits.')"
      ]
    },
    {
      "cell_type": "code",
      "source": [
        "np.pi\n",
        "import scipy.constants as sc"
      ],
      "metadata": {
        "id": "xpLpPrFYvfdG"
      },
      "execution_count": 39,
      "outputs": []
    },
    {
      "cell_type": "code",
      "source": [
        "sc.atomic_mass"
      ],
      "metadata": {
        "colab": {
          "base_uri": "https://localhost:8080/"
        },
        "id": "Uo2Y6gvYvtkE",
        "outputId": "09bc45c8-b1d0-4031-8bed-7092cd509255"
      },
      "execution_count": 40,
      "outputs": [
        {
          "output_type": "execute_result",
          "data": {
            "text/plain": [
              "1.66053906892e-27"
            ]
          },
          "metadata": {},
          "execution_count": 40
        }
      ]
    }
  ],
  "metadata": {
    "kernelspec": {
      "display_name": "Python 3 (ipykernel)",
      "language": "python",
      "name": "python3"
    },
    "language_info": {
      "codemirror_mode": {
        "name": "ipython",
        "version": 3
      },
      "file_extension": ".py",
      "mimetype": "text/x-python",
      "name": "python",
      "nbconvert_exporter": "python",
      "pygments_lexer": "ipython3",
      "version": "3.12.7"
    },
    "colab": {
      "provenance": [],
      "include_colab_link": true
    }
  },
  "nbformat": 4,
  "nbformat_minor": 0
}