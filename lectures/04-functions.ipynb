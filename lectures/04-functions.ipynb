{
  "cells": [
    {
      "cell_type": "markdown",
      "metadata": {
        "id": "view-in-github",
        "colab_type": "text"
      },
      "source": [
        "<a href=\"https://colab.research.google.com/github/da3344ma-s-jpg/Lectures/blob/main/lectures/04-functions.ipynb\" target=\"_parent\"><img src=\"https://colab.research.google.com/assets/colab-badge.svg\" alt=\"Open In Colab\"/></a>"
      ]
    },
    {
      "cell_type": "markdown",
      "metadata": {
        "id": "RoLpBD9DV1bO"
      },
      "source": [
        "# Functions\n",
        "\n",
        "Functions are used to group code or operations together to increase clarity or when the same code needs to be used in several places.\n",
        "Functions take a number of _arguments_ or parameters to which an operation is typically applied. The following defines a mathematical function, $f(x)=x^2$ where $x$ is the argument and $f$ is the _return value_. The _function name_ is `square_value`:"
      ]
    },
    {
      "cell_type": "code",
      "execution_count": null,
      "metadata": {
        "id": "wOlgUis7V1bW"
      },
      "outputs": [],
      "source": [
        "def square_value(x):\n",
        "    ''' returns the squared value of x '''\n",
        "    return x*x"
      ]
    },
    {
      "cell_type": "markdown",
      "metadata": {
        "id": "kqCdu-QzV1bY"
      },
      "source": [
        "The text on the second line is called a _docstring_ and is simply an arbitrary string using to describe the function. You have already seen doctrings in use when accessing information in the first lecture. For example:"
      ]
    },
    {
      "cell_type": "code",
      "execution_count": null,
      "metadata": {
        "scrolled": true,
        "id": "ogAesZQzV1bY"
      },
      "outputs": [],
      "source": [
        "help(square_value)"
      ]
    },
    {
      "cell_type": "markdown",
      "metadata": {
        "id": "ri0-rpMZV1bZ"
      },
      "source": [
        "We can _call_ the function and _pass_ an argument, 3 for example. The function gives us back a _return value_, 9."
      ]
    },
    {
      "cell_type": "code",
      "execution_count": null,
      "metadata": {
        "id": "PeWRMmrvV1ba"
      },
      "outputs": [],
      "source": [
        "square_value(3)"
      ]
    },
    {
      "cell_type": "code",
      "execution_count": null,
      "metadata": {
        "id": "vfo9AfXMV1ba"
      },
      "outputs": [],
      "source": [
        "# using keyword arguments, you can give arguments (if multiple) out of order\n",
        "square_value(x=3)"
      ]
    },
    {
      "cell_type": "markdown",
      "metadata": {
        "id": "3qgyCjx9V1ba"
      },
      "source": [
        "## Task\n",
        "\n",
        "Create a function for the pythagoras theorem which takes the side lengths a and b, and returns the hypotenuse, c. Do not forget to write a docstring and may be several lines long and can contain information on both input arguments and the return value. More information on docstring writing [here](https://stackoverflow.com/questions/3898572/what-is-the-standard-python-docstring-format)."
      ]
    },
    {
      "cell_type": "code",
      "execution_count": 8,
      "metadata": {
        "id": "_GE28uBFV1bb"
      },
      "outputs": [],
      "source": [
        "import math # gives you acces to `math.sqrt()` which is also a function!\n",
        "\n",
        "def pythagoras_theorem(a,b):\n",
        "  '''takes the side lengths a and b, and returns the hypotenuse, c.'''\n",
        "  return math.sqrt(a**2 + b**2)\n",
        "\n",
        "  pythagoras_theorem(3,4)"
      ]
    },
    {
      "cell_type": "markdown",
      "metadata": {
        "id": "SThXlqZ6V1bb"
      },
      "source": [
        "## Task: Multiple return values\n",
        "\n",
        "- Explain each line in the code below and add a docstring\n",
        "- Try to run it and print the result for i.e. a=6, b=40, c=2\n",
        "\n",
        "``` py\n",
        "def quadratic_formula(a, b, c):\n",
        "    root1  = -b + math.sqrt(b**2-4*a*c)\n",
        "    root1 /= (2*a)\n",
        "    root2  = -b - math.sqrt(b**2-4*a*c)\n",
        "    root2 /= (2*a)\n",
        "    return root1, root2\n",
        "```"
      ]
    },
    {
      "cell_type": "code",
      "metadata": {
        "colab": {
          "base_uri": "https://localhost:8080/"
        },
        "id": "ef5b3f3a",
        "outputId": "f0cabea9-77c4-4d85-e3ea-4a800c8706e1"
      },
      "source": [
        "import math\n",
        "\n",
        "def quadratic_formula(a, b, c):\n",
        "    \"\"\"Calculates the roots of a quadratic equation using the quadratic formula.\n",
        "\n",
        "    Args:\n",
        "        a: The coefficient of the x^2 term.\n",
        "        b: The coefficient of the x term.\n",
        "        c: The constant term.\n",
        "\n",
        "    Returns:\n",
        "        A tuple containing the two roots of the quadratic equation.\n",
        "    \"\"\"\n",
        "    # Calculate the first root\n",
        "    root1  = -b + math.sqrt(b**2 - 4*a*c)\n",
        "    root1 /= (2*a)\n",
        "    # Calculate the second root\n",
        "    root2  = -b - math.sqrt(b**2 - 4*a*c)\n",
        "    root2 /= (2*a)\n",
        "    # Return both roots as a tuple\n",
        "    return root1, root2\n",
        "\n",
        "# Try running the function with a=6, b=40, c=2\n",
        "a = 6\n",
        "b = 40\n",
        "c = 2\n",
        "roots = quadratic_formula(a, b, c)\n",
        "print(f\"The roots of the quadratic equation with a={a}, b={b}, and c={c} are: {roots}\")"
      ],
      "execution_count": 9,
      "outputs": [
        {
          "output_type": "stream",
          "name": "stdout",
          "text": [
            "The roots of the quadratic equation with a=6, b=40, and c=2 are: (-0.050380732734632026, -6.616285933932034)\n"
          ]
        }
      ]
    },
    {
      "cell_type": "markdown",
      "metadata": {
        "id": "ULawL_udV1bc"
      },
      "source": [
        "## Task: Namespaces\n",
        "In general the variables that are inside a function are separated\n",
        "from what is outside of the function.\n",
        "This simplifies the choice of names and should really motivate you to use many functions. <br>\n",
        "Task: predict what the print function will return before you execute it!\n",
        "\n",
        "```py\n",
        "    a = 5\n",
        "    def change_a(x):\n",
        "        a = x\n",
        "        print('inside the function a is: {}'.format(a))\n",
        "    \n",
        "    change_a(10)\n",
        "    print('outside the function a is: {}'.format(a))\n",
        "```"
      ]
    },
    {
      "cell_type": "markdown",
      "metadata": {
        "id": "439uAKPhV1bc"
      },
      "source": []
    },
    {
      "cell_type": "markdown",
      "metadata": {
        "id": "gZwusY45V1bd"
      },
      "source": [
        "## A bit more about functions\n",
        "\n",
        "- functions does not need to take any arguments (`def f():`)\n",
        "- function does not need to return anything (`def f(x=10)`)\n",
        "- arguments can have _default values_\n",
        "- arguments and return values are of course not restricted to numbers!"
      ]
    },
    {
      "cell_type": "markdown",
      "metadata": {
        "id": "fpBL-P82V1be"
      },
      "source": [
        "# Task\n",
        "\n",
        "Write a function that takes a string and prints it `n` times and where the default value for `n` is 2."
      ]
    },
    {
      "cell_type": "code",
      "execution_count": 11,
      "metadata": {
        "colab": {
          "base_uri": "https://localhost:8080/"
        },
        "id": "4yZPMMIMV1bf",
        "outputId": "be0103e0-0a27-4e00-ab99-83064a10dd26"
      },
      "outputs": [
        {
          "output_type": "stream",
          "name": "stdout",
          "text": [
            "Hello!\n",
            "Hello!\n",
            "Python is fun!\n",
            "Python is fun!\n",
            "Python is fun!\n"
          ]
        }
      ],
      "source": [
        "def print_string(text, n=2):\n",
        "  \"\"\"\n",
        "  Prints a given string n times.\n",
        "\n",
        "  Args:\n",
        "    text: The string to print.\n",
        "    n: The number of times to print the string (defaults to 2).\n",
        "  \"\"\"\n",
        "  for _ in range(n):\n",
        "    print(text)\n",
        "\n",
        "# Example usage:\n",
        "print_string(\"Hello!\")\n",
        "print_string(\"Python is fun!\", n=3)"
      ]
    },
    {
      "cell_type": "markdown",
      "metadata": {
        "id": "mYxgS_mNV1bf"
      },
      "source": [
        "## Task: Same functions in multiple packages\n",
        "\n",
        "- The same function \"sqrt\"  can be found in multiple packages\n",
        "- use \"type\" to investigate what is the difference of the output <br>\n",
        "  hint: if you assign the output of the function to two variables it is easier to access the separate variables\n",
        "\n",
        "``` py\n",
        "import numpy\n",
        "def quadratic_formula(a, b, c):\n",
        "    root1  = -b + numpy.sqrt(b**2-4*a*c)\n",
        "    root1  /= (2*a)\n",
        "    root2  = -b - numpy.sqrt(b**2-4*a*c)\n",
        "    root2 /=(2*a)\n",
        "    return root1, root2\n",
        "```"
      ]
    },
    {
      "cell_type": "code",
      "execution_count": 12,
      "metadata": {
        "colab": {
          "base_uri": "https://localhost:8080/"
        },
        "id": "DWS3XrIfV1bg",
        "outputId": "4e5d2c9c-2396-49ae-ecbf-052f75a6dbe3"
      },
      "outputs": [
        {
          "output_type": "stream",
          "name": "stdout",
          "text": [
            "Result from math.sqrt(9): 3.0\n",
            "Type of result from math.sqrt: <class 'float'>\n",
            "Result from numpy.sqrt(9): 3.0\n",
            "Type of result from numpy.sqrt: <class 'numpy.float64'>\n",
            "\n",
            "Roots of x^2 - 3x + 2 = 0 using numpy.sqrt: (np.float64(2.0), np.float64(1.0))\n",
            "Type of the returned value: <class 'tuple'>\n",
            "Type of the individual roots: <class 'numpy.float64'>\n",
            "Roots of x^2 - 3x + 2 = 0 using math.sqrt: (2.0, 1.0)\n",
            "Type of the returned value: <class 'tuple'>\n",
            "Type of the individual roots: <class 'float'>\n"
          ]
        }
      ],
      "source": [
        "import math\n",
        "import numpy\n",
        "\n",
        "# Using math.sqrt\n",
        "math_sqrt_result = math.sqrt(9)\n",
        "print(f\"Result from math.sqrt(9): {math_sqrt_result}\")\n",
        "print(f\"Type of result from math.sqrt: {type(math_sqrt_result)}\")\n",
        "\n",
        "# Using numpy.sqrt\n",
        "numpy_sqrt_result = numpy.sqrt(9)\n",
        "print(f\"Result from numpy.sqrt(9): {numpy_sqrt_result}\")\n",
        "print(f\"Type of result from numpy.sqrt: {type(numpy_sqrt_result)}\")\n",
        "\n",
        "# The quadratic formula function using numpy.sqrt as requested in the task description\n",
        "def quadratic_formula_numpy(a, b, c):\n",
        "    root1  = -b + numpy.sqrt(b**2-4*a*c)\n",
        "    root1  /= (2*a)\n",
        "    root2  = -b - numpy.sqrt(b**2-4*a*c)\n",
        "    root2 /=(2*a)\n",
        "    return root1, root2\n",
        "\n",
        "# Example usage of the quadratic formula with numpy.sqrt\n",
        "a = 1\n",
        "b = -3\n",
        "c = 2\n",
        "roots_numpy = quadratic_formula_numpy(a, b, c)\n",
        "print(f\"\\nRoots of x^2 - 3x + 2 = 0 using numpy.sqrt: {roots_numpy}\")\n",
        "print(f\"Type of the returned value: {type(roots_numpy)}\")\n",
        "print(f\"Type of the individual roots: {type(roots_numpy[0])}\")\n",
        "\n",
        "# Example usage of the quadratic formula with math.sqrt for comparison\n",
        "def quadratic_formula_math(a, b, c):\n",
        "    root1  = -b + math.sqrt(b**2-4*a*c)\n",
        "    root1  /= (2*a)\n",
        "    root2  = -b - math.sqrt(b**2-4*a*c)\n",
        "    root2 /=(2*a)\n",
        "    return root1, root2\n",
        "\n",
        "roots_math = quadratic_formula_math(a, b, c)\n",
        "print(f\"Roots of x^2 - 3x + 2 = 0 using math.sqrt: {roots_math}\")\n",
        "print(f\"Type of the returned value: {type(roots_math)}\")\n",
        "print(f\"Type of the individual roots: {type(roots_math[0])}\")"
      ]
    },
    {
      "cell_type": "markdown",
      "metadata": {
        "id": "diJxRvS6V1bh"
      },
      "source": [
        "## Task: Talking about code\n",
        "\n",
        "In connection with functions, explain the following terms to each other and identify where in this file you have used them.\n",
        "    \n",
        "1. _argument_\n",
        "1. _parameter_\n",
        "2. _return value_\n",
        "3. _calling_\n",
        "4. _passing_\n",
        "5. _default argument_\n",
        "6. _docstring_\n",
        "7. _keyword arguments_\n",
        "8. _name space_"
      ]
    },
    {
      "cell_type": "code",
      "execution_count": null,
      "metadata": {
        "id": "vmWZ67KnV1bh"
      },
      "outputs": [],
      "source": []
    },
    {
      "cell_type": "markdown",
      "metadata": {
        "id": "5c6e9f09"
      },
      "source": [
        "Let's go through each of these terms related to functions and find where they appear in this notebook:\n",
        "\n",
        "1.  **Argument**: A value that is passed to a function when it is called. Arguments are the actual data the function works with.\n",
        "    *   **Used in:** When we call `square_value(3)` (Cell `PeWRMmrvV1ba`), `3` is the argument. When we call `pythagoras_theorem(3, 4)` (Cell `_GE28uBFV1bb`), `3` and `4` are arguments. When we call `quadratic_formula(a, b, c)` (Cell `ef5b3f3a`), the values assigned to `a`, `b`, and `c` are the arguments.\n",
        "2.  **Parameter**: A variable listed inside the parentheses in the function definition. Parameters define what types of inputs a function can accept.\n",
        "    *   **Used in:** In the definition `def square_value(x):` (Cell `wOlgUis7V1bW`), `x` is a parameter. In `def pythagoras_theorem(a, b):` (Cell `_GE28uBFV1bb`), `a` and `b` are parameters. In `def quadratic_formula(a, b, c):` (Cell `ef5b3f3a`), `a`, `b`, and `c` are parameters.\n",
        "3.  **Return value**: The value that a function outputs after it has finished executing. The `return` statement is used to send a value back from the function.\n",
        "    *   **Used in:** The `square_value` function returns `x*x` (Cell `wOlgUis7V1bW`). The `pythagoras_theorem` function returns `math.sqrt(a**2 + b**2)` (Cell `_GE28uBFV1bb`). The `quadratic_formula` function returns `root1, root2` (Cell `ef5b3f3a`).\n",
        "4.  **Calling**: The process of executing a function. You call a function by writing its name followed by parentheses, enclosing any necessary arguments.\n",
        "    *   **Used in:** `square_value(3)` (Cell `PeWRMmrvV1ba`) and `square_value(x=3)` (Cell `vfo9AfXMV1ba`) are examples of calling the `square_value` function. `pythagoras_theorem(3,4)` (Cell `_GE28uBFV1bb`) calls the `pythagoras_theorem` function. The lines `roots = quadratic_formula(a, b, c)` (Cell `ef5b3f3a`) call the `quadratic_formula` function.\n",
        "5.  **Passing**: The act of providing arguments to a function when it is called. You pass values into the function's parameters.\n",
        "    *   **Used in:** When we call `square_value(3)` (Cell `PeWRMmrvV1ba`), we are passing the value `3` to the `x` parameter. When we call `pythagoras_theorem(3, 4)` (Cell `_GE28uBFV1bb`), we are passing `3` and `4` to the `a` and `b` parameters respectively.\n",
        "6.  **Default argument**: A parameter that has a default value assigned in the function definition. If no argument is passed for this parameter when the function is called, the default value is used.\n",
        "    *   **Used in:** In the function `def print_string_n_times(text, n=2):` (Cell `4yZPMMIMV1bf`), `n=2` is a default argument. If you call `print_string_n_times(\"Hello!\")` without providing a value for `n`, it will use the default value of 2.\n",
        "7.  **Docstring**: A string literal that occurs as the first statement in a module, function, class, or method definition. It's used to document the code.\n",
        "    *   **Used in:** The text enclosed in triple quotes `''' '''` or `\"\"\" \"\"\"` immediately after the function definition is a docstring. Examples are in `square_value` (Cell `wOlgUis7V1bW`), `pythagoras_theorem` (Cell `_GE28uBFV1bb`), and `quadratic_formula` (Cell `ef5b3f3a`).\n",
        "8.  **Keyword arguments**: Arguments preceded by the parameter name and an equals sign (`=`) when calling a function. This allows you to pass arguments in any order.\n",
        "    *   **Used in:** `square_value(x=3)` (Cell `vfo9AfXMV1ba`) is an example of using a keyword argument, explicitly specifying that the value `3` should be assigned to the `x` parameter.\n",
        "9.  **Namespace**: A system for organizing names to avoid conflicts. In Python, namespaces are created for modules, functions, classes, etc., ensuring that names defined within one namespace don't conflict with names in another. Variables defined inside a function exist in the function's local namespace, separate from variables outside the function (in the global namespace).\n",
        "    *   **Used in:** The task in Cell `ULawL_udV1bc` directly demonstrates the concept of namespaces by showing how a variable `a` inside the `change_a` function is separate from a variable `a` outside the function."
      ]
    }
  ],
  "metadata": {
    "kernelspec": {
      "display_name": "Python 3 (ipykernel)",
      "language": "python",
      "name": "python3"
    },
    "language_info": {
      "codemirror_mode": {
        "name": "ipython",
        "version": 3
      },
      "file_extension": ".py",
      "mimetype": "text/x-python",
      "name": "python",
      "nbconvert_exporter": "python",
      "pygments_lexer": "ipython3",
      "version": "3.12.7"
    },
    "colab": {
      "provenance": [],
      "include_colab_link": true
    }
  },
  "nbformat": 4,
  "nbformat_minor": 0
}